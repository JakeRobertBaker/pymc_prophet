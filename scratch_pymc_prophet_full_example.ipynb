{
 "cells": [
  {
   "cell_type": "markdown",
   "metadata": {},
   "source": [
    "# Full Example\n",
    "THe idea with this NB is to do the same as the pymc_prophet_example NB but do everything (holidays, regressors etc...) in a single example and compare pymc_prohet with prophet. Then we will use this to build the Bayesian PyMC component."
   ]
  },
  {
   "cell_type": "code",
   "execution_count": 1,
   "metadata": {},
   "outputs": [
    {
     "name": "stderr",
     "output_type": "stream",
     "text": [
      "Importing plotly failed. Interactive plots will not work.\n"
     ]
    }
   ],
   "source": [
    "import pandas as pd\n",
    "from pymcprophet.model import BayesTS, BayesTSConfig\n",
    "from prophet import Prophet\n",
    "\n",
    "import numpy as np\n",
    "import datetime as dt\n"
   ]
  },
  {
   "cell_type": "code",
   "execution_count": 2,
   "metadata": {},
   "outputs": [],
   "source": [
    "df = pd.read_csv('https://raw.githubusercontent.com/facebook/prophet/main/examples/example_wp_log_peyton_manning.csv')\n",
    "df['ds'] = pd.to_datetime(df['ds'])"
   ]
  },
  {
   "cell_type": "markdown",
   "metadata": {},
   "source": [
    "## Holidays\n",
    "These are user defined. We will also add auto US ones."
   ]
  },
  {
   "cell_type": "code",
   "execution_count": 3,
   "metadata": {},
   "outputs": [],
   "source": [
    "playoffs = pd.DataFrame({\n",
    "  'holiday': 'playoff',\n",
    "  'ds': pd.to_datetime(['2008-01-13', '2009-01-03', '2010-01-16',\n",
    "                        '2010-01-24', '2010-02-07', '2011-01-08',\n",
    "                        '2013-01-12', '2014-01-12', '2014-01-19',\n",
    "                        '2014-02-02', '2015-01-11', '2016-01-17',\n",
    "                        '2016-01-24', '2016-02-07']),\n",
    "  'lower_window': 0,\n",
    "  'upper_window': 1,\n",
    "})\n",
    "superbowls = pd.DataFrame({\n",
    "  'holiday': 'superbowl',\n",
    "  'ds': pd.to_datetime(['2010-02-07', '2014-02-02', '2016-02-07']),\n",
    "  'lower_window': 0,\n",
    "  'upper_window': 1,\n",
    "})\n",
    "holidays = pd.concat((playoffs, superbowls))"
   ]
  },
  {
   "cell_type": "markdown",
   "metadata": {},
   "source": [
    "## Regressor\n",
    "Custom dataset for Sundays during the NFL Season."
   ]
  },
  {
   "cell_type": "code",
   "execution_count": 4,
   "metadata": {},
   "outputs": [],
   "source": [
    "def nfl_sunday(ds):\n",
    "    date = pd.to_datetime(ds)\n",
    "    if date.weekday() == 6 and (date.month > 8 or date.month < 2):\n",
    "        return 1\n",
    "    else:\n",
    "        return 0\n",
    "\n",
    "df['nfl_sunday'] = df['ds'].apply(nfl_sunday)"
   ]
  },
  {
   "cell_type": "markdown",
   "metadata": {},
   "source": [
    "## Modelling"
   ]
  },
  {
   "cell_type": "code",
   "execution_count": 5,
   "metadata": {},
   "outputs": [],
   "source": [
    "train_df = df.query(\"ds.dt.year <= 2014\")\n",
    "test_df = df.query(\"ds.dt.year > 2014\")"
   ]
  },
  {
   "cell_type": "markdown",
   "metadata": {},
   "source": [
    "### PyMC"
   ]
  },
  {
   "cell_type": "code",
   "execution_count": 6,
   "metadata": {},
   "outputs": [],
   "source": [
    "ts_config = BayesTSConfig()\n",
    "ts_model = BayesTS(ts_config)\n",
    "ts_model.add_holiday_country(\"US\")\n",
    "ts_model.add_holiday(holidays)\n",
    "ts_model.add_regressor(\"nfl_sunday\")\n",
    "\n",
    "ts_model.assign_model_matrix(train_df)"
   ]
  },
  {
   "cell_type": "code",
   "execution_count": 15,
   "metadata": {},
   "outputs": [
    {
     "data": {
      "text/plain": [
       "[datetime.date(2008, 3, 2),\n",
       " datetime.date(2008, 5, 24),\n",
       " datetime.date(2008, 9, 4),\n",
       " datetime.date(2008, 11, 25),\n",
       " datetime.date(2009, 2, 14),\n",
       " datetime.date(2009, 5, 6),\n",
       " datetime.date(2009, 7, 25),\n",
       " datetime.date(2009, 10, 21),\n",
       " datetime.date(2010, 1, 12),\n",
       " datetime.date(2010, 4, 6),\n",
       " datetime.date(2010, 6, 27),\n",
       " datetime.date(2010, 9, 22),\n",
       " datetime.date(2010, 12, 11),\n",
       " datetime.date(2011, 3, 2),\n",
       " datetime.date(2011, 5, 22),\n",
       " datetime.date(2011, 8, 10),\n",
       " datetime.date(2011, 11, 1),\n",
       " datetime.date(2012, 1, 23),\n",
       " datetime.date(2012, 4, 12),\n",
       " datetime.date(2012, 7, 3),\n",
       " datetime.date(2012, 9, 22),\n",
       " datetime.date(2012, 12, 11),\n",
       " datetime.date(2013, 3, 2),\n",
       " datetime.date(2013, 5, 22),\n",
       " datetime.date(2013, 8, 12)]"
      ]
     },
     "execution_count": 15,
     "metadata": {},
     "output_type": "execute_result"
    }
   ],
   "source": [
    "ts_model.config.changepoints"
   ]
  },
  {
   "cell_type": "code",
   "execution_count": 16,
   "metadata": {},
   "outputs": [
    {
     "data": {
      "text/plain": [
       "[0.0321955003878976,\n",
       " 0.0643910007757952,\n",
       " 0.104344453064391,\n",
       " 0.13615205585725368,\n",
       " 0.16757176105508145,\n",
       " 0.19899146625290923,\n",
       " 0.2300232738557021,\n",
       " 0.26415826221877425,\n",
       " 0.29635376260667184,\n",
       " 0.32893716058960437,\n",
       " 0.360744763382467,\n",
       " 0.39449185415050425,\n",
       " 0.42552366175329714,\n",
       " 0.4569433669511249,\n",
       " 0.4883630721489527,\n",
       " 0.5193948797517456,\n",
       " 0.5515903801396431,\n",
       " 0.5837858805275408,\n",
       " 0.6148176881303336,\n",
       " 0.6466252909231963,\n",
       " 0.6780449961210241,\n",
       " 0.7090768037238169,\n",
       " 0.7404965089216446,\n",
       " 0.7719162141194724,\n",
       " 0.8037238169123352]"
      ]
     },
     "execution_count": 16,
     "metadata": {},
     "output_type": "execute_result"
    }
   ],
   "source": [
    "ts_model.t_values"
   ]
  },
  {
   "cell_type": "markdown",
   "metadata": {},
   "source": [
    "### Prophet"
   ]
  },
  {
   "cell_type": "code",
   "execution_count": 9,
   "metadata": {},
   "outputs": [
    {
     "data": {
      "text/plain": [
       "<prophet.forecaster.Prophet at 0x7585b7bdecf0>"
      ]
     },
     "execution_count": 9,
     "metadata": {},
     "output_type": "execute_result"
    }
   ],
   "source": [
    "prophet_model = Prophet(holidays=holidays)\n",
    "prophet_model.add_country_holidays(country_name='US')\n",
    "prophet_model.add_regressor('nfl_sunday')"
   ]
  },
  {
   "cell_type": "code",
   "execution_count": 10,
   "metadata": {},
   "outputs": [],
   "source": [
    "transformed = prophet_model.preprocess(train_df)"
   ]
  },
  {
   "cell_type": "code",
   "execution_count": 11,
   "metadata": {},
   "outputs": [
    {
     "data": {
      "text/plain": [
       "75    0.029480\n",
       "76    0.029868\n",
       "77    0.030256\n",
       "78    0.030644\n",
       "79    0.031420\n",
       "80    0.032196\n",
       "81    0.033359\n",
       "82    0.033747\n",
       "83    0.034135\n",
       "84    0.034523\n",
       "Name: t, dtype: float64"
      ]
     },
     "execution_count": 11,
     "metadata": {},
     "output_type": "execute_result"
    }
   ],
   "source": [
    "transformed.t[75:85]"
   ]
  },
  {
   "cell_type": "code",
   "execution_count": 12,
   "metadata": {},
   "outputs": [
    {
     "data": {
      "text/plain": [
       "array([0.03335919, 0.064391  , 0.10434445, 0.13653995, 0.16757176,\n",
       "       0.19899147, 0.23002327, 0.26415826, 0.29635376, 0.32893716,\n",
       "       0.36074476, 0.39449185, 0.42552366, 0.45694337, 0.48836307,\n",
       "       0.51939488, 0.55159038, 0.58378588, 0.61481769, 0.64662529,\n",
       "       0.6776571 , 0.7090768 , 0.74049651, 0.77152832, 0.80333592])"
      ]
     },
     "execution_count": 12,
     "metadata": {},
     "output_type": "execute_result"
    }
   ],
   "source": [
    "transformed.t_change"
   ]
  },
  {
   "cell_type": "code",
   "execution_count": 13,
   "metadata": {},
   "outputs": [
    {
     "data": {
      "text/plain": [
       "array([0.032, 0.064, 0.096, 0.128, 0.16 , 0.192, 0.224, 0.256, 0.288,\n",
       "       0.32 , 0.352, 0.384, 0.416, 0.448, 0.48 , 0.512, 0.544, 0.576,\n",
       "       0.608, 0.64 , 0.672, 0.704, 0.736, 0.768, 0.8  ])"
      ]
     },
     "execution_count": 13,
     "metadata": {},
     "output_type": "execute_result"
    }
   ],
   "source": [
    "np.linspace(0, 0.8, 26)[1:]"
   ]
  },
  {
   "cell_type": "code",
   "execution_count": 14,
   "metadata": {},
   "outputs": [
    {
     "data": {
      "text/plain": [
       "0.05"
      ]
     },
     "execution_count": 14,
     "metadata": {},
     "output_type": "execute_result"
    }
   ],
   "source": [
    "transformed.tau"
   ]
  }
 ],
 "metadata": {
  "kernelspec": {
   "display_name": "pymc_env",
   "language": "python",
   "name": "python3"
  },
  "language_info": {
   "codemirror_mode": {
    "name": "ipython",
    "version": 3
   },
   "file_extension": ".py",
   "mimetype": "text/x-python",
   "name": "python",
   "nbconvert_exporter": "python",
   "pygments_lexer": "ipython3",
   "version": "3.12.9"
  }
 },
 "nbformat": 4,
 "nbformat_minor": 2
}
