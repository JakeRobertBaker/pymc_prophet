{
 "cells": [
  {
   "cell_type": "markdown",
   "metadata": {},
   "source": [
    "# Full Example\n",
    "THe idea with this NB is to do the same as the pymc_prophet_example NB but do everything (holidays, regressors etc...) in a single example and compare pymc_prohet with prophet. Then we will use this to build the Bayesian PyMC component."
   ]
  },
  {
   "cell_type": "code",
   "execution_count": 1,
   "metadata": {},
   "outputs": [
    {
     "name": "stderr",
     "output_type": "stream",
     "text": [
      "Importing plotly failed. Interactive plots will not work.\n"
     ]
    }
   ],
   "source": [
    "import pandas as pd\n",
    "from pymcprophet.model import BayesTS, BayesTSConfig\n",
    "from prophet import Prophet\n"
   ]
  },
  {
   "cell_type": "code",
   "execution_count": 2,
   "metadata": {},
   "outputs": [],
   "source": [
    "df = df = pd.read_csv('https://raw.githubusercontent.com/facebook/prophet/main/examples/example_wp_log_peyton_manning.csv')\n",
    "df['ds'] = pd.to_datetime(df['ds'])"
   ]
  },
  {
   "cell_type": "markdown",
   "metadata": {},
   "source": [
    "## Holidays\n",
    "These are user defined. We will also add auto US ones."
   ]
  },
  {
   "cell_type": "code",
   "execution_count": 3,
   "metadata": {},
   "outputs": [],
   "source": [
    "playoffs = pd.DataFrame({\n",
    "  'holiday': 'playoff',\n",
    "  'ds': pd.to_datetime(['2008-01-13', '2009-01-03', '2010-01-16',\n",
    "                        '2010-01-24', '2010-02-07', '2011-01-08',\n",
    "                        '2013-01-12', '2014-01-12', '2014-01-19',\n",
    "                        '2014-02-02', '2015-01-11', '2016-01-17',\n",
    "                        '2016-01-24', '2016-02-07']),\n",
    "  'lower_window': 0,\n",
    "  'upper_window': 1,\n",
    "})\n",
    "superbowls = pd.DataFrame({\n",
    "  'holiday': 'superbowl',\n",
    "  'ds': pd.to_datetime(['2010-02-07', '2014-02-02', '2016-02-07']),\n",
    "  'lower_window': 0,\n",
    "  'upper_window': 1,\n",
    "})\n",
    "holidays = pd.concat((playoffs, superbowls))"
   ]
  },
  {
   "cell_type": "markdown",
   "metadata": {},
   "source": [
    "## Regressor\n",
    "Custom dataset for Sundays during the NFL Season."
   ]
  },
  {
   "cell_type": "code",
   "execution_count": 4,
   "metadata": {},
   "outputs": [],
   "source": [
    "def nfl_sunday(ds):\n",
    "    date = pd.to_datetime(ds)\n",
    "    if date.weekday() == 6 and (date.month > 8 or date.month < 2):\n",
    "        return 1\n",
    "    else:\n",
    "        return 0\n",
    "\n",
    "df['nfl_sunday'] = df['ds'].apply(nfl_sunday)"
   ]
  },
  {
   "cell_type": "markdown",
   "metadata": {},
   "source": [
    "## Modelling"
   ]
  },
  {
   "cell_type": "code",
   "execution_count": 5,
   "metadata": {},
   "outputs": [],
   "source": [
    "train_df = df.query(\"ds.dt.year <= 2014\")\n",
    "test_df = df.query(\"ds.dt.year > 2014\")"
   ]
  },
  {
   "cell_type": "markdown",
   "metadata": {},
   "source": [
    "### PyMC"
   ]
  },
  {
   "cell_type": "code",
   "execution_count": 6,
   "metadata": {},
   "outputs": [
    {
     "data": {
      "text/plain": [
       "Index(['ds', 'y', 'nfl_sunday', 'y_trans', 't', 't_seasonality',\n",
       "       'yearly_sin_1', 'yearly_sin_2', 'yearly_sin_3', 'yearly_sin_4',\n",
       "       'yearly_sin_5', 'yearly_sin_6', 'yearly_sin_7', 'yearly_sin_8',\n",
       "       'yearly_sin_9', 'yearly_sin_10', 'yearly_cos_1', 'yearly_cos_2',\n",
       "       'yearly_cos_3', 'yearly_cos_4', 'yearly_cos_5', 'yearly_cos_6',\n",
       "       'yearly_cos_7', 'yearly_cos_8', 'yearly_cos_9', 'yearly_cos_10',\n",
       "       'weekly_sin_1', 'weekly_sin_2', 'weekly_sin_3', 'weekly_cos_1',\n",
       "       'weekly_cos_2', 'weekly_cos_3', 'playoff', 'playoff_lag_1', 'superbowl',\n",
       "       'superbowl_lag_1', 'christmas_day', 'christmas_day_observed',\n",
       "       'columbus_day', 'independence_day', 'independence_day_observed',\n",
       "       'juneteenth_national_independence_day',\n",
       "       'juneteenth_national_independence_day_observed', 'labor_day',\n",
       "       'martin_luther_king_jr_day', 'memorial_day', 'new_years_day',\n",
       "       'new_years_day_observed', 'thanksgiving', 'veterans_day',\n",
       "       'veterans_day_observed', 'washingtons_birthday'],\n",
       "      dtype='object')"
      ]
     },
     "execution_count": 6,
     "metadata": {},
     "output_type": "execute_result"
    }
   ],
   "source": [
    "ts_config = BayesTSConfig()\n",
    "ts_model = BayesTS(ts_config)\n",
    "ts_model.add_holiday_country(\"US\")\n",
    "ts_model.add_holiday(holidays)\n",
    "ts_model.add_regressor(\"nfl_sunday\")\n",
    "\n",
    "ts_model.assign_model_matrix(train_df)\n",
    "\n",
    "ts_model.model_df.columns"
   ]
  },
  {
   "cell_type": "markdown",
   "metadata": {},
   "source": [
    "### Prophet"
   ]
  },
  {
   "cell_type": "code",
   "execution_count": 7,
   "metadata": {},
   "outputs": [
    {
     "data": {
      "text/plain": [
       "<prophet.forecaster.Prophet at 0x7e33e30bbaa0>"
      ]
     },
     "execution_count": 7,
     "metadata": {},
     "output_type": "execute_result"
    }
   ],
   "source": [
    "prophet_model = Prophet(holidays=holidays)\n",
    "prophet_model.add_country_holidays(country_name='US')\n",
    "prophet_model.add_regressor('nfl_sunday')"
   ]
  },
  {
   "cell_type": "code",
   "execution_count": 8,
   "metadata": {},
   "outputs": [],
   "source": [
    "transformed = prophet_model.preprocess(train_df)"
   ]
  },
  {
   "cell_type": "code",
   "execution_count": 9,
   "metadata": {},
   "outputs": [
    {
     "data": {
      "text/plain": [
       "Index(['yearly_delim_1', 'yearly_delim_2', 'yearly_delim_3', 'yearly_delim_4',\n",
       "       'yearly_delim_5', 'yearly_delim_6', 'yearly_delim_7', 'yearly_delim_8',\n",
       "       'yearly_delim_9', 'yearly_delim_10', 'yearly_delim_11',\n",
       "       'yearly_delim_12', 'yearly_delim_13', 'yearly_delim_14',\n",
       "       'yearly_delim_15', 'yearly_delim_16', 'yearly_delim_17',\n",
       "       'yearly_delim_18', 'yearly_delim_19', 'yearly_delim_20',\n",
       "       'weekly_delim_1', 'weekly_delim_2', 'weekly_delim_3', 'weekly_delim_4',\n",
       "       'weekly_delim_5', 'weekly_delim_6', 'Christmas Day (observed)_delim_+0',\n",
       "       'Christmas Day_delim_+0', 'Columbus Day_delim_+0',\n",
       "       'Independence Day (observed)_delim_+0', 'Independence Day_delim_+0',\n",
       "       'Labor Day_delim_+0', 'Martin Luther King Jr. Day_delim_+0',\n",
       "       'Memorial Day_delim_+0', 'New Year's Day (observed)_delim_+0',\n",
       "       'New Year's Day_delim_+0', 'Thanksgiving_delim_+0',\n",
       "       'Veterans Day (observed)_delim_+0', 'Veterans Day_delim_+0',\n",
       "       'Washington's Birthday_delim_+0', 'playoff_delim_+0',\n",
       "       'playoff_delim_+1', 'superbowl_delim_+0', 'superbowl_delim_+1',\n",
       "       'nfl_sunday'],\n",
       "      dtype='object')"
      ]
     },
     "execution_count": 9,
     "metadata": {},
     "output_type": "execute_result"
    }
   ],
   "source": [
    "transformed.X.columns"
   ]
  }
 ],
 "metadata": {
  "kernelspec": {
   "display_name": "pymc_env",
   "language": "python",
   "name": "python3"
  },
  "language_info": {
   "codemirror_mode": {
    "name": "ipython",
    "version": 3
   },
   "file_extension": ".py",
   "mimetype": "text/x-python",
   "name": "python",
   "nbconvert_exporter": "python",
   "pygments_lexer": "ipython3",
   "version": "3.12.9"
  }
 },
 "nbformat": 4,
 "nbformat_minor": 2
}
