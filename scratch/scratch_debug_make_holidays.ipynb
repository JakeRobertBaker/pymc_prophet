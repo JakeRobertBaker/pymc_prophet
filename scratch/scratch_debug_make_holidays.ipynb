{
 "cells": [
  {
   "cell_type": "code",
   "execution_count": 1,
   "metadata": {},
   "outputs": [],
   "source": [
    "from __future__ import absolute_import, division, print_function\n",
    "\n",
    "import numpy as np\n",
    "import pandas as pd\n",
    "\n",
    "import holidays"
   ]
  },
  {
   "cell_type": "code",
   "execution_count": 2,
   "metadata": {},
   "outputs": [],
   "source": [
    "country = 'US'\n",
    "# year_list = [2007, 2008, 2009, 2010, 2011, 2012, 2013, 2014]\n",
    "year_list = np.arange(2007, 2007+45)\n",
    "province = None\n",
    "state = None\n"
   ]
  },
  {
   "cell_type": "code",
   "execution_count": 3,
   "metadata": {},
   "outputs": [],
   "source": [
    "def get_country_holidays_class(country):\n",
    "    \"\"\"Get class for a supported country.\n",
    "\n",
    "    Parameters\n",
    "    ----------\n",
    "    country: country code\n",
    "\n",
    "    Returns\n",
    "    -------\n",
    "    A valid country holidays class\n",
    "    \"\"\"\n",
    "    substitutions = {\n",
    "        \"TU\": \"TR\",  # For compatibility with Turkey as 'TU' cases.\n",
    "    }\n",
    "\n",
    "    country = substitutions.get(country, country)\n",
    "    if not hasattr(holidays, country):\n",
    "        raise AttributeError(f\"Holidays in {country} are not currently supported!\")\n",
    "\n",
    "    return getattr(holidays, country)"
   ]
  },
  {
   "cell_type": "code",
   "execution_count": 4,
   "metadata": {},
   "outputs": [],
   "source": [
    "country_holidays = get_country_holidays_class(country)\n",
    "holidays = country_holidays(expand=False, language=\"en_US\", subdiv=province, years=year_list)\n",
    "\n",
    "holidays_df = pd.DataFrame(\n",
    "    [(date, holidays.get_list(date)) for date in holidays],\n",
    "    columns=[\"ds\", \"holiday\"],\n",
    ")\n",
    "holidays_df = holidays_df.explode(\"holiday\")\n",
    "holidays_df.reset_index(inplace=True, drop=True)\n",
    "holidays_df[\"ds\"] = pd.to_datetime(holidays_df[\"ds\"])"
   ]
  },
  {
   "cell_type": "code",
   "execution_count": 29,
   "metadata": {},
   "outputs": [
    {
     "data": {
      "text/plain": [
       "['Christmas Day (observed)',\n",
       " 'Independence Day (observed)',\n",
       " 'Juneteenth National Independence Day',\n",
       " 'Juneteenth National Independence Day (observed)',\n",
       " \"New Year's Day (observed)\"]"
      ]
     },
     "execution_count": 29,
     "metadata": {},
     "output_type": "execute_result"
    }
   ],
   "source": [
    "holidays_df.groupby(\"holiday\").agg({\"ds\":\"min\"}).query(\"ds > '2008-01-01'\").reset_index()[\"holiday\"].unique().tolist()"
   ]
  }
 ],
 "metadata": {
  "kernelspec": {
   "display_name": "pymc_env",
   "language": "python",
   "name": "python3"
  },
  "language_info": {
   "codemirror_mode": {
    "name": "ipython",
    "version": 3
   },
   "file_extension": ".py",
   "mimetype": "text/x-python",
   "name": "python",
   "nbconvert_exporter": "python",
   "pygments_lexer": "ipython3",
   "version": "3.12.9"
  }
 },
 "nbformat": 4,
 "nbformat_minor": 2
}
