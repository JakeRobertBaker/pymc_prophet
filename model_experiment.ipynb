{
 "cells": [
  {
   "cell_type": "code",
   "execution_count": 1,
   "metadata": {},
   "outputs": [],
   "source": [
    "from pymcprophet.model_templates import (\n",
    "    BayesTSConfig,\n",
    "    Feature,\n",
    "    RegressorFeature,\n",
    "    FeatureFamily,\n",
    "    RegressorFamily,\n",
    "    SeasonalityFamily,\n",
    "    ModelSpecification,\n",
    ")"
   ]
  },
  {
   "cell_type": "code",
   "execution_count": 2,
   "metadata": {},
   "outputs": [],
   "source": [
    "m_spec = ModelSpecification()"
   ]
  },
  {
   "cell_type": "code",
   "execution_count": 3,
   "metadata": {},
   "outputs": [],
   "source": [
    "# logisitc_fam = FeatureFamily(features={\"floor\": Feature(), \"cap\": Feature()})\n",
    "logisitc_fam = FeatureFamily(features={\"cap\": Feature()})"
   ]
  },
  {
   "cell_type": "code",
   "execution_count": 4,
   "metadata": {},
   "outputs": [],
   "source": [
    "m_spec.add_family(family_name=\"logistic\", feature_family=logisitc_fam)"
   ]
  },
  {
   "cell_type": "code",
   "execution_count": 5,
   "metadata": {},
   "outputs": [],
   "source": [
    "reg_fam = RegressorFamily(regressor_type=\"extra_regressor\", mode=\"additive\")"
   ]
  },
  {
   "cell_type": "code",
   "execution_count": 6,
   "metadata": {},
   "outputs": [],
   "source": [
    "m_spec.add_family(family_name=\"test\", feature_family=reg_fam)"
   ]
  },
  {
   "cell_type": "code",
   "execution_count": 11,
   "metadata": {},
   "outputs": [
    {
     "data": {
      "text/plain": [
       "{'feature_families': {'logistic': {'features': {'cap': {'feature_origin': 'input'}},\n",
       "   'family_type': 'feature'},\n",
       "  'test': {'features': {},\n",
       "   'family_type': 'regressor',\n",
       "   'mode': 'additive',\n",
       "   'regressor_type': 'extra_regressor'}}}"
      ]
     },
     "execution_count": 11,
     "metadata": {},
     "output_type": "execute_result"
    }
   ],
   "source": [
    "m_spec.model_dump()"
   ]
  }
 ],
 "metadata": {
  "kernelspec": {
   "display_name": "pymc_env",
   "language": "python",
   "name": "python3"
  },
  "language_info": {
   "codemirror_mode": {
    "name": "ipython",
    "version": 3
   },
   "file_extension": ".py",
   "mimetype": "text/x-python",
   "name": "python",
   "nbconvert_exporter": "python",
   "pygments_lexer": "ipython3",
   "version": "3.12.8"
  }
 },
 "nbformat": 4,
 "nbformat_minor": 2
}
